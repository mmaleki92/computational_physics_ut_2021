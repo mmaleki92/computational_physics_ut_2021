{
  "nbformat": 4,
  "nbformat_minor": 0,
  "metadata": {
    "colab": {
      "name": "Untitled40.ipynb",
      "provenance": [],
      "collapsed_sections": []
    },
    "kernelspec": {
      "name": "python3",
      "display_name": "Python 3"
    }
  },
  "cells": [
    {
      "cell_type": "markdown",
      "metadata": {
        "id": "2YzrpJXtJn6q"
      },
      "source": [
        "# Python Basics"
      ]
    },
    {
      "cell_type": "markdown",
      "metadata": {
        "id": "-woQN9dGKiTz"
      },
      "source": [
        "**Question 1**\n",
        "\n",
        "Write a Python program to count the number of characters (character frequency) in a string\n",
        "\n",
        "Sample String : 'physics.ut.ac.ir'\n",
        "\n",
        "Expected Result : {'p': 1, 'h': 1, 'y': 1, 's': 2, 'i': 2, 'c': 2, 'c.': 3, 'u': 1, 't': 1, 'a': 1  }"
      ]
    },
    {
      "cell_type": "code",
      "metadata": {
        "id": "65gUbPxBKUR5"
      },
      "source": [
        ""
      ],
      "execution_count": null,
      "outputs": []
    },
    {
      "cell_type": "markdown",
      "metadata": {
        "id": "eSRRdMc3KVaw"
      },
      "source": [
        "**Question 2**\n",
        "\n",
        "Write a Python function that takes two lists and returns True if they have at least one common member\n"
      ]
    },
    {
      "cell_type": "code",
      "metadata": {
        "id": "Rkn93unzL3mp"
      },
      "source": [
        ""
      ],
      "execution_count": null,
      "outputs": []
    },
    {
      "cell_type": "markdown",
      "metadata": {
        "id": "aVoY1qrmMQS6"
      },
      "source": [
        "**Question 3**\n"
      ]
    },
    {
      "cell_type": "code",
      "metadata": {
        "id": "nqMHiFYPIoCN"
      },
      "source": [
        "def number_pattern(n):\n",
        "    \"\"\"\n",
        "        Prints the following pattern for `n` rows:\n",
        "\n",
        "        1\n",
        "        1 2\n",
        "        1 2 3\n",
        "        ...\n",
        "        1 2 3 ... n\n",
        "\n",
        "        Parameters\n",
        "        ----------\n",
        "        n : integer\n",
        "            Number of lines\n",
        "\n",
        "        Output\n",
        "        ------\n",
        "        Prints to stdout (default output)\n",
        "\n",
        "        Ideas\n",
        "        -----\n",
        "        Looping, Nested Loops\n",
        "    \"\"\""
      ],
      "execution_count": 4,
      "outputs": []
    },
    {
      "cell_type": "code",
      "metadata": {
        "id": "KATe9GlcJt3R"
      },
      "source": [
        "# Call your function here\n"
      ],
      "execution_count": null,
      "outputs": []
    },
    {
      "cell_type": "markdown",
      "metadata": {
        "id": "MgqKU5ExMaGh"
      },
      "source": [
        "**Question 4**\n"
      ]
    },
    {
      "cell_type": "code",
      "metadata": {
        "id": "g-NQzHygJwsL"
      },
      "source": [
        "def zero_star_pattern(n):\n",
        "    \"\"\"\n",
        "        Prints the following `n` times:\n",
        "\n",
        "        *\n",
        "        00\n",
        "        ***\n",
        "        0000\n",
        "        *****\n",
        "        0000\n",
        "        ***\n",
        "        00\n",
        "        *\n",
        "\n",
        "        Example\n",
        "        -------\n",
        "        n = 2\n",
        "        \n",
        "        *\n",
        "        00\n",
        "        ***\n",
        "        0000\n",
        "        *****\n",
        "        0000\n",
        "        ***\n",
        "        00\n",
        "        *\n",
        "        00\n",
        "        ***\n",
        "        0000\n",
        "        *****\n",
        "        0000\n",
        "        ***\n",
        "        00\n",
        "        *\n",
        "\n",
        "        Parameters\n",
        "        ----------\n",
        "        n : integer\n",
        "            Number of times to print pattern\n",
        "\n",
        "        Output\n",
        "        ------\n",
        "        Prints to stdout (default output)\n",
        "\n",
        "        Ideas\n",
        "        -----\n",
        "        Looping, Conditions\n",
        "    \"\"\"\n",
        "    "
      ],
      "execution_count": 6,
      "outputs": []
    },
    {
      "cell_type": "code",
      "metadata": {
        "id": "EgRHEL_XJ2NT"
      },
      "source": [
        "# Call your function here\n"
      ],
      "execution_count": null,
      "outputs": []
    },
    {
      "cell_type": "markdown",
      "metadata": {
        "id": "upx07SnWMcO3"
      },
      "source": [
        "**Question 5**\n"
      ]
    },
    {
      "cell_type": "code",
      "metadata": {
        "id": "wzQqJF3oKKzc"
      },
      "source": [
        "data = [0.00, 0.12, 0.24, 0.36, 0.48, 0.52, 0.65, 0.50, 0.11, 0.09]"
      ],
      "execution_count": 3,
      "outputs": []
    },
    {
      "cell_type": "code",
      "metadata": {
        "id": "nqhi24NkJ5wr"
      },
      "source": [
        "def round_off(data):\n",
        "    \"\"\"\n",
        "        Round off values in `data` below the mean to 0, and those above the mean to 1,\n",
        "        and return the list of rounded values.\n",
        "\n",
        "        Parameters\n",
        "        ----------\n",
        "        data : list\n",
        "            List of values to round off\n",
        "\n",
        "        Return\n",
        "        ------\n",
        "        List of rounded values\n",
        "        Note: You must return the list with rounded values, not just print it.\n",
        "\n",
        "    \"\"\"\n",
        "    "
      ],
      "execution_count": null,
      "outputs": []
    },
    {
      "cell_type": "code",
      "metadata": {
        "id": "8iwsbSL_KQK8"
      },
      "source": [
        "# Call your function here - print the returned list to check your function\n"
      ],
      "execution_count": null,
      "outputs": []
    },
    {
      "cell_type": "markdown",
      "metadata": {
        "id": "Frc1z5PVMj-_"
      },
      "source": [
        "**Question 6**\n",
        "\n",
        "Define two 2 x 2 matrices and calculate the product of the matrices using NumPy package."
      ]
    },
    {
      "cell_type": "code",
      "metadata": {
        "id": "z7oJH-dITouy"
      },
      "source": [
        "#import package\n",
        "import numpy as np"
      ],
      "execution_count": 5,
      "outputs": []
    },
    {
      "cell_type": "code",
      "metadata": {
        "id": "JvEmO1zRMlyp"
      },
      "source": [
        "#define matrices\n",
        "\n",
        "\n",
        "#calculate the product\n",
        "\n",
        "\n",
        "#print the resulted matrix\n"
      ],
      "execution_count": null,
      "outputs": []
    }
  ]
}